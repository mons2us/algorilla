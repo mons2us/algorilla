{
 "cells": [
  {
   "cell_type": "markdown",
   "metadata": {},
   "source": [
    "문제 1978.\n",
    "\n",
    "주어진 수 N개 중에서 소수가 몇 개인지 찾아서 출력하는 프로그램을 작성하시오.\n",
    "\n",
    "입력\n",
    "첫 줄에 수의 개수 N이 주어진다. N은 100이하이다. 다음으로 N개의 수가 주어지는데 수는 1,000 이하의 자연수이다.\n",
    "\n",
    "출력\n",
    "주어진 수들 중 소수의 개수를 출력한다.\n",
    "\n"
   ]
  },
  {
   "cell_type": "code",
   "execution_count": 25,
   "metadata": {},
   "outputs": [
    {
     "name": "stdout",
     "output_type": "stream",
     "text": [
      "1\n",
      "2\n",
      "1\n"
     ]
    }
   ],
   "source": [
    "def sosu(input):\n",
    "    \n",
    "    if input == 1:\n",
    "        return False\n",
    "    else:\n",
    "        denom = list(range(2, input))\n",
    "        for _denom in denom:\n",
    "            if input % _denom == 0:\n",
    "                return False\n",
    "        return True\n",
    "\n",
    "N = int(input())\n",
    "Ns = list(map(int, input().split()))\n",
    "assert len(Ns) == N\n",
    "\n",
    "tot = 0\n",
    "for n in Ns:\n",
    "    if sosu(n):\n",
    "        tot += 1\n",
    "\n",
    "print(tot)"
   ]
  },
  {
   "cell_type": "markdown",
   "metadata": {},
   "source": [
    "문제 2581.\n",
    "\n",
    "자연수 M과 N이 주어질 때 M이상 N이하의 자연수 중 소수인 것을 모두 골라 이들 소수의 합과 최솟값을 찾는 프로그램을 작성하시오.\n",
    "\n",
    "예를 들어 M=60, N=100인 경우 60이상 100이하의 자연수 중 소수는 61, 67, 71, 73, 79, 83, 89, 97 총 8개가 있으므로, 이들 소수의 합은 620이고, 최솟값은 61이 된다.\n",
    "\n",
    "입력\n",
    "입력의 첫째 줄에 M이, 둘째 줄에 N이 주어진다.\n",
    "\n",
    "M과 N은 10,000이하의 자연수이며, M은 N보다 작거나 같다.\n",
    "\n",
    "출력\n",
    "M이상 N이하의 자연수 중 소수인 것을 모두 찾아 첫째 줄에 그 합을, 둘째 줄에 그 중 최솟값을 출력한다. \n",
    "\n",
    "단, M이상 N이하의 자연수 중 소수가 없을 경우는 첫째 줄에 -1을 출력한다."
   ]
  },
  {
   "cell_type": "code",
   "execution_count": 32,
   "metadata": {},
   "outputs": [
    {
     "name": "stdout",
     "output_type": "stream",
     "text": [
      "64\n",
      "65\n",
      "-1\n"
     ]
    }
   ],
   "source": [
    "def sosu(input):\n",
    "    \n",
    "    if input == 1:\n",
    "        return None\n",
    "    else:\n",
    "        denom = list(range(2, input))\n",
    "        for _denom in denom:\n",
    "            if input % _denom == 0:\n",
    "                return None\n",
    "        return input\n",
    "\n",
    "M, N = int(input()), int(input())\n",
    "array = list(range(M, N+1))\n",
    "\n",
    "res = [a for a in list(map(sosu, array)) if a is not None]\n",
    "\n",
    "if res:\n",
    "    print(sum(res))\n",
    "    print(min(res))\n",
    "else:\n",
    "    print(-1)\n"
   ]
  },
  {
   "cell_type": "markdown",
   "metadata": {},
   "source": [
    "문제1929.\n",
    "\n",
    " -- 에라토스테네스의 체 활용\n",
    " \n",
    "M이상 N이하의 소수를 모두 출력하는 프로그램을 작성하시오.\n",
    "\n",
    "입력\n",
    "첫째 줄에 자연수 M과 N이 빈 칸을 사이에 두고 주어진다. (1 ≤ M ≤ N ≤ 1,000,000) M이상 N이하의 소수가 하나 이상 있는 입력만 주어진다.\n",
    "\n",
    "출력\n",
    "한 줄에 하나씩, 증가하는 순서대로 소수를 출력한다."
   ]
  },
  {
   "cell_type": "code",
   "execution_count": 107,
   "metadata": {
    "scrolled": true
   },
   "outputs": [
    {
     "name": "stdout",
     "output_type": "stream",
     "text": [
      "1 50\n",
      "2\n",
      "3\n",
      "5\n",
      "7\n",
      "11\n",
      "13\n",
      "17\n",
      "19\n",
      "23\n",
      "29\n",
      "31\n",
      "37\n",
      "41\n",
      "43\n",
      "47\n"
     ]
    }
   ],
   "source": [
    "# 시간 초과\n",
    "def sosu(start, end):\n",
    "    \n",
    "    if start == 1:\n",
    "        start = 2\n",
    "        \n",
    "    denom_array = list(range(2, int(end**0.5) + 1))\n",
    "    tot_array = list(range(start, end + 1))\n",
    "    \n",
    "    for i in denom_array:\n",
    "        tot_array = [a for a in tot_array if (a == i) or (a % i != 0)]\n",
    "    return tot_array\n",
    "\n",
    "M, N = list(map(int, input().split()))\n",
    "res = sosu(M, N)\n",
    "\n",
    "print(*res, sep = '\\n')"
   ]
  },
  {
   "cell_type": "code",
   "execution_count": null,
   "metadata": {},
   "outputs": [],
   "source": [
    "# 풀이\n",
    "# 2부터 (end의 제곱근 + 1)까지 배수를 확인할 array 생성 - denom_array\n",
    "# 2부터 시작해서\n",
    "#   1) denom_array에서 삭제\n",
    "#   2) tot_array에서 삭제\n",
    "# 3, 4(삭제), 5, ... 식으로 체크 -> tot_array에서 F로 바꿈\n",
    "# T인거만 추출"
   ]
  },
  {
   "cell_type": "markdown",
   "metadata": {},
   "source": [
    "문제 4948.\n",
    "\n",
    "베르트랑 공준은 임의의 자연수 n에 대하여, n보다 크고, 2n보다 작거나 같은 소수는 적어도 하나 존재한다는 내용을 담고 있다.\n",
    "\n",
    "이 명제는 조제프 베르트랑이 1845년에 추측했고, 파프누티 체비쇼프가 1850년에 증명했다.\n",
    "\n",
    "예를 들어, 10보다 크고, 20보다 작거나 같은 소수는 4개가 있다. (11, 13, 17, 19) 또, 14보다 크고, 28보다 작거나 같은 소수는 3개가 있다. (17,19, 23)\n",
    "\n",
    "n이 주어졌을 때, n보다 크고, 2n보다 작거나 같은 소수의 개수를 구하는 프로그램을 작성하시오. \n",
    "\n",
    "입력\n",
    "입력은 여러 개의 테스트 케이스로 이루어져 있다. 각 케이스는 n을 포함하며, 한 줄로 이루어져 있다. (n ≤ 123456)\n",
    "\n",
    "입력의 마지막에는 0이 주어진다.\n",
    "\n",
    "출력\n",
    "각 테스트 케이스에 대해서, n보다 크고, 2n보다 작거나 같은 소수의 개수를 출력한다."
   ]
  },
  {
   "cell_type": "code",
   "execution_count": 104,
   "metadata": {},
   "outputs": [
    {
     "data": {
      "text/plain": [
       "1033"
      ]
     },
     "execution_count": 104,
     "metadata": {},
     "output_type": "execute_result"
    }
   ],
   "source": [
    "def is_prime(_input):\n",
    "    if _input == 1:\n",
    "        return False\n",
    "    else:\n",
    "        denoms = range(2, _input)\n",
    "        if [a for a in denoms if _input % a == 0]:\n",
    "            return False\n",
    "        else:\n",
    "            return True\n",
    "    \n",
    "def prime_num(start, end):\n",
    "    array = list(range(start, end + 1))\n",
    "    res = [a for a in array if is_prime(a)]\n",
    "    return len(res)\n",
    "\n",
    "prime_num(10000, 20000)"
   ]
  },
  {
   "cell_type": "markdown",
   "metadata": {},
   "source": [
    "문제 1085.\n",
    "\n",
    "한수는 지금 (x, y)에 있다. 직사각형의 왼쪽 아래 꼭짓점은 (0, 0)에 있고, 오른쪽 위 꼭짓점은 (w, h)에 있다. 직사각형의 경계선까지 가는 거리의 최솟값을 구하는 프로그램을 작성하시오.\n",
    "\n",
    "입력\n",
    "첫째 줄에 x y w h가 주어진다. w와 h는 1,000보다 작거나 같은 자연수이고, x는 1보다 크거나 같고, w-1보다 작거나 같은 자연수이고, y는 1보다 크거나 같고, h-1보다 작거나 같은 자연수이다.\n",
    "\n",
    "출력\n",
    "첫째 줄에 문제의 정답을 출력한다.\n",
    "\n"
   ]
  },
  {
   "cell_type": "code",
   "execution_count": 119,
   "metadata": {},
   "outputs": [
    {
     "name": "stdout",
     "output_type": "stream",
     "text": [
      "6 2 10 3\n",
      "1\n"
     ]
    }
   ],
   "source": [
    "def shortest(x, y, w, h):\n",
    "    get_x = min([w-x, x])\n",
    "    get_y = min([h-y, y])\n",
    "    res = min(get_x, get_y)\n",
    "    return res\n",
    "\n",
    "x, y, w, h = list(map(int, input().split()))\n",
    "print(shortest(x, y, w, h))"
   ]
  },
  {
   "cell_type": "markdown",
   "metadata": {},
   "source": [
    "문제 3009.\n",
    "\n",
    "세 점이 주어졌을 때, 축에 평행한 직사각형을 만들기 위해서 필요한 네 번째 점을 찾는 프로그램을 작성하시오.\n",
    "\n",
    "입력\n",
    "세 점의 좌표가 한 줄에 하나씩 주어진다. 좌표는 1보다 크거나 같고, 1000보다 작거나 같은 정수이다.\n",
    "\n",
    "출력\n",
    "직사각형의 네 번째 점의 좌표를 출력한다."
   ]
  },
  {
   "cell_type": "code",
   "execution_count": 132,
   "metadata": {},
   "outputs": [
    {
     "name": "stdout",
     "output_type": "stream",
     "text": [
      "30 20\n",
      "10 10\n",
      "10 20\n",
      "(30, 10)\n"
     ]
    }
   ],
   "source": [
    "def make_rect(args):\n",
    "\n",
    "    #x1, x2, x3 = args\n",
    "    xs = [a[0] for a in args]\n",
    "    ys = [a[1] for a in args]\n",
    "\n",
    "    if len([a for a in xs if a == max(xs)]) == 2:\n",
    "        to_x = min(xs)\n",
    "    else:\n",
    "        to_x = max(xs)\n",
    "    \n",
    "    if len([a for a in ys if a == max(ys)]) == 2:\n",
    "        to_y = min(ys)\n",
    "    else:\n",
    "        to_y = max(ys)\n",
    "    \n",
    "    return to_x, to_y\n",
    "\n",
    "args_array = []\n",
    "for _ in range(3):\n",
    "    args_array.append(list(map(int, input().split())))\n",
    "    \n",
    "x, y = make_rect(args_array)\n",
    "print(x, y)"
   ]
  },
  {
   "cell_type": "markdown",
   "metadata": {},
   "source": [
    "문제 4153.\n",
    "\n",
    "과거 이집트인들은 각 변들의 길이가 3, 4, 5인 삼각형이 직각 삼각형인것을 알아냈다. 주어진 세변의 길이로 삼각형이 직각인지 아닌지 구분하시오.\n",
    "\n",
    "입력\n",
    "입력은 여러개의 테스트케이스로 주어지며 마지막줄에는 0 0 0이 입력된다. 각 테스트케이스는 모두 30,000보다 작은 양의 정수로 주어지며, 각 입력은 변의 길이를 의미한다.\n",
    "\n",
    "출력\n",
    "각 입력에 대해 직각 삼각형이 맞다면 \"right\", 아니라면 \"wrong\"을 출력한다."
   ]
  },
  {
   "cell_type": "code",
   "execution_count": 134,
   "metadata": {},
   "outputs": [
    {
     "name": "stdout",
     "output_type": "stream",
     "text": [
      "6 8 10\n",
      "right\n",
      "25 52 60\n",
      "wrong\n",
      "5 12 13\n",
      "right\n",
      "0 0 0\n"
     ]
    }
   ],
   "source": [
    "def if_right(_list):\n",
    "    a, b, c = _list[0], _list[1], _list[2]\n",
    "    \n",
    "    _max = max([a, b, c])\n",
    "    _rest = [i for i in [a, b, c] if i != _max]\n",
    "    \n",
    "    if _max ** 2 == _rest[0]**2 + _rest[1]**2:\n",
    "        return \"right\"\n",
    "    else:\n",
    "        return \"wrong\"\n",
    "    \n",
    "while True:\n",
    "    lens = list(map(int, input().split()))\n",
    "    if lens == [0, 0, 0]:\n",
    "        break\n",
    "    else:\n",
    "        print(if_right(lens))"
   ]
  }
 ],
 "metadata": {
  "kernelspec": {
   "display_name": "Python 3",
   "language": "python",
   "name": "python3"
  },
  "language_info": {
   "codemirror_mode": {
    "name": "ipython",
    "version": 3
   },
   "file_extension": ".py",
   "mimetype": "text/x-python",
   "name": "python",
   "nbconvert_exporter": "python",
   "pygments_lexer": "ipython3",
   "version": "3.8.3"
  }
 },
 "nbformat": 4,
 "nbformat_minor": 4
}
