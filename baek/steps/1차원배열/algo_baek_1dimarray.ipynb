{
 "cells": [
  {
   "cell_type": "markdown",
   "metadata": {},
   "source": [
    "문제 2577.\n",
    "\n",
    "세 개의 자연수 A, B, C가 주어질 때 A×B×C를 계산한 결과에 0부터 9까지 각각의 숫자가 몇 번씩 쓰였는지를 구하는 프로그램을 작성하시오.\n",
    "\n",
    "예를 들어 A = 150, B = 266, C = 427 이라면 \n",
    "\n",
    "A × B × C = 150 × 266 × 427 = 17037300 이 되고, \n",
    "\n",
    "계산한 결과 17037300 에는 0이 3번, 1이 1번, 3이 2번, 7이 2번 쓰였다.\n",
    "\n",
    "입력\n",
    "첫째 줄에 A, 둘째 줄에 B, 셋째 줄에 C가 주어진다. A, B, C는 모두 100보다 같거나 크고, 1,000보다 작은 자연수이다.\n",
    "\n",
    "출력\n",
    "첫째 줄에는 A×B×C의 결과에 0 이 몇 번 쓰였는지 출력한다. 마찬가지로 둘째 줄부터 열 번째 줄까지 A×B×C의 결과에 1부터 9까지의 숫자가 각각 몇 번 쓰였는지 차례로 한 줄에 하나씩 출력한다."
   ]
  },
  {
   "cell_type": "code",
   "execution_count": 1,
   "metadata": {},
   "outputs": [
    {
     "name": "stdout",
     "output_type": "stream",
     "text": [
      "150\n",
      "266\n",
      "427\n",
      "3\n",
      "1\n",
      "0\n",
      "2\n",
      "0\n",
      "0\n",
      "0\n",
      "2\n",
      "0\n",
      "0\n"
     ]
    }
   ],
   "source": [
    "input_array = []\n",
    "for i in range(3):\n",
    "    input_array.append(int(input()))\n",
    "    \n",
    "mtp = input_array[0] * input_array[1] * input_array[2]\n",
    "\n",
    "mtp = str(mtp)\n",
    "\n",
    "for i in range(10):\n",
    "    print(mtp.count(str(i)))\n"
   ]
  },
  {
   "cell_type": "markdown",
   "metadata": {},
   "source": [
    "문제 1546.\n",
    "\n",
    "세준이는 기말고사를 망쳤다. 세준이는 점수를 조작해서 집에 가져가기로 했다. 일단 세준이는 자기 점수 중에 최댓값을 골랐다. 이 값을 M이라고 한다. 그리고 나서 모든 점수를 점수/M*100으로 고쳤다.\n",
    "\n",
    "예를 들어, 세준이의 최고점이 70이고, 수학점수가 50이었으면 수학점수는 50/70*100이 되어 71.43점이 된다.\n",
    "\n",
    "세준이의 성적을 위의 방법대로 새로 계산했을 때, 새로운 평균을 구하는 프로그램을 작성하시오.\n",
    "\n",
    "입력\n",
    "첫째 줄에 시험 본 과목의 개수 N이 주어진다. 이 값은 1000보다 작거나 같다. 둘째 줄에 세준이의 현재 성적이 주어진다. 이 값은 100보다 작거나 같은 음이 아닌 정수이고, 적어도 하나의 값은 0보다 크다.\n",
    "\n",
    "출력\n",
    "첫째 줄에 새로운 평균을 출력한다. 실제 정답과 출력값의 절대오차 또는 상대오차가 10-2 이하이면 정답이다."
   ]
  },
  {
   "cell_type": "code",
   "execution_count": 8,
   "metadata": {},
   "outputs": [
    {
     "name": "stdout",
     "output_type": "stream",
     "text": [
      "5\n",
      "1 2 4 8 16\n",
      "38.75\n"
     ]
    }
   ],
   "source": [
    "import numpy as np\n",
    "\n",
    "subject_num = int(input())\n",
    "subject_score = list(map(int, input().split()))\n",
    "\n",
    "# check number of inputs\n",
    "assert subject_num == len(subject_score)\n",
    "\n",
    "max_score = max(subject_score)\n",
    "new_score = [a/max_score * 100 for a in subject_score]\n",
    "\n",
    "# print\n",
    "print(sum(new_score)/len(new_score))\n",
    "    "
   ]
  },
  {
   "cell_type": "markdown",
   "metadata": {},
   "source": [
    "문제 8958.\n",
    "\n",
    "\"OOXXOXXOOO\"와 같은 OX퀴즈의 결과가 있다. O는 문제를 맞은 것이고, X는 문제를 틀린 것이다. 문제를 맞은 경우 그 문제의 점수는 그 문제까지 연속된 O의 개수가 된다. 예를 들어, 10번 문제의 점수는 3이 된다.\n",
    "\n",
    "\"OOXXOXXOOO\"의 점수는 1+2+0+0+1+0+0+1+2+3 = 10점이다.\n",
    "\n",
    "OX퀴즈의 결과가 주어졌을 때, 점수를 구하는 프로그램을 작성하시오.\n",
    "\n",
    "입력\n",
    "첫째 줄에 테스트 케이스의 개수가 주어진다. 각 테스트 케이스는 한 줄로 이루어져 있고, 길이가 0보다 크고 80보다 작은 문자열이 주어진다. 문자열은 O와 X만으로 이루어져 있다.\n",
    "\n",
    "출력\n",
    "각 테스트 케이스마다 점수를 출력한다."
   ]
  },
  {
   "cell_type": "code",
   "execution_count": 28,
   "metadata": {},
   "outputs": [
    {
     "name": "stdout",
     "output_type": "stream",
     "text": [
      "0 O\n",
      "1 O\n",
      "2 O\n",
      "3 X\n",
      "4 X\n",
      "5 X\n"
     ]
    }
   ],
   "source": [
    "aa = \"OOOXXX\"\n",
    "for i, x in enumerate(aa):\n",
    "    print(i, x)"
   ]
  },
  {
   "cell_type": "code",
   "execution_count": 32,
   "metadata": {},
   "outputs": [
    {
     "name": "stdout",
     "output_type": "stream",
     "text": [
      "2\n",
      "OOXXOXXOOO\n",
      "OOXXOOXXOO\n",
      "[1, 2, 0, 0, 1, 0, 0, 1, 2, 3]\n",
      "[1, 2, 0, 0, 1, 2, 0, 0, 1, 2]\n",
      "10\n",
      "9\n"
     ]
    }
   ],
   "source": [
    "test_case = int(input())\n",
    "\n",
    "\n",
    "quiz_set = []\n",
    "for i in range(test_case):\n",
    "    quiz_set.append(str(input()))\n",
    "\n",
    "    \n",
    "score_set = []\n",
    "score = []\n",
    "\n",
    "oseq_flag = 0\n",
    "for quiz in quiz_set:\n",
    "    \n",
    "    for i, ox in enumerate(quiz):\n",
    "\n",
    "        if i == 0 and ox == \"O\":\n",
    "            oseq_flag = 1\n",
    "\n",
    "        elif ox == \"O\" and quiz[i-1] == \"O\":\n",
    "            oseq_flag += 1\n",
    "\n",
    "        elif ox == \"O\" and quiz[i-1] != \"O\":\n",
    "            oseq_flag = 1\n",
    "\n",
    "        else:\n",
    "            oseq_flag = 0\n",
    "\n",
    "        tmp_score = oseq_flag\n",
    "        score.append(tmp_score)\n",
    "\n",
    "    # SUM of scores\n",
    "    score_sum = sum(score)\n",
    "    score_set.append(score_sum)\n",
    "    \n",
    "    # initialize\n",
    "    score = []\n",
    "    oseq_flag = 0\n",
    "    \n",
    "\n",
    "for i in score_set:\n",
    "    print(i)"
   ]
  },
  {
   "cell_type": "markdown",
   "metadata": {},
   "source": [
    "문제 4344.\n",
    "\n",
    "대학생 새내기들의 90%는 자신이 반에서 평균은 넘는다고 생각한다. 당신은 그들에게 슬픈 진실을 알려줘야 한다.\n",
    "\n",
    "입력\n",
    "첫째 줄에는 테스트 케이스의 개수 C가 주어진다.\n",
    "\n",
    "둘째 줄부터 각 테스트 케이스마다 학생의 수 N(1 ≤ N ≤ 1000, N은 정수)이 첫 수로 주어지고, 이어서 N명의 점수가 주어진다. 점수는 0보다 크거나 같고, 100보다 작거나 같은 정수이다.\n",
    "\n",
    "출력\n",
    "각 케이스마다 한 줄씩 평균을 넘는 학생들의 비율을 반올림하여 소수점 셋째 자리까지 출력한다."
   ]
  },
  {
   "cell_type": "code",
   "execution_count": 43,
   "metadata": {},
   "outputs": [
    {
     "name": "stdout",
     "output_type": "stream",
     "text": [
      "1\n",
      "5 50 50 70 100 70\n",
      "60.000%\n"
     ]
    }
   ],
   "source": [
    "test_case = int(input())\n",
    "\n",
    "for i in range(test_case):\n",
    "    stud_set = list(map(int, input().split()))\n",
    "    \n",
    "    # check\n",
    "    assert stud_set[0] == len(stud_set[1:])\n",
    "    \n",
    "    score_list = stud_set[1:]\n",
    "    avg = sum(score_list)/len(score_list)\n",
    "    \n",
    "    count = 0\n",
    "    for a_stud in score_list:\n",
    "        if a_stud > avg:\n",
    "            count += 1\n",
    "    \n",
    "    print(\"%.3f\" % (count/stud_set[0]*100), \"%\", sep = '')"
   ]
  }
 ],
 "metadata": {
  "kernelspec": {
   "display_name": "algorilla",
   "language": "python",
   "name": "algoenv"
  },
  "language_info": {
   "codemirror_mode": {
    "name": "ipython",
    "version": 3
   },
   "file_extension": ".py",
   "mimetype": "text/x-python",
   "name": "python",
   "nbconvert_exporter": "python",
   "pygments_lexer": "ipython3",
   "version": "3.8.3"
  }
 },
 "nbformat": 4,
 "nbformat_minor": 4
}
