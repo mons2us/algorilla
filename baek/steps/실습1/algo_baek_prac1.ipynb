{
 "cells": [
  {
   "cell_type": "markdown",
   "metadata": {},
   "source": [
    "문제 10039.\n",
    "\n",
    "상현이가 가르치는 아이폰 앱 개발 수업의 수강생은 원섭, 세희, 상근, 숭, 강수이다.\n",
    "\n",
    "어제 이 수업의 기말고사가 있었고, 상현이는 지금 학생들의 기말고사 시험지를 채점하고 있다. 기말고사 점수가 40점 이상인 학생들은 그 점수 그대로 자신의 성적이 된다. 하지만, 40점 미만인 학생들은 보충학습을 듣는 조건을 수락하면 40점을 받게 된다. 보충학습은 거부할 수 없기 때문에, 40점 미만인 학생들은 항상 40점을 받게 된다.\n",
    "\n",
    "학생 5명의 점수가 주어졌을 때, 평균 점수를 구하는 프로그램을 작성하시오.\n",
    "\n",
    "입력\n",
    "입력은 총 5줄로 이루어져 있고, 원섭이의 점수, 세희의 점수, 상근이의 점수, 숭이의 점수, 강수의 점수가 순서대로 주어진다.\n",
    "\n",
    "점수는 모두 0점 이상, 100점 이하인 5의 배수이다. 따라서, 평균 점수는 항상 정수이다. \n",
    "\n",
    "출력\n",
    "첫째 줄에 학생 5명의 평균 점수를 출력한다."
   ]
  },
  {
   "cell_type": "code",
   "execution_count": 4,
   "metadata": {},
   "outputs": [
    {
     "name": "stdout",
     "output_type": "stream",
     "text": [
      "10\n",
      "65\n",
      "100\n",
      "30\n",
      "95\n",
      "68\n"
     ]
    }
   ],
   "source": [
    "students_num = 5\n",
    "\n",
    "score_list = []\n",
    "for i in range(students_num):\n",
    "    score_tmp = int(input())\n",
    "    assert score_tmp >= 0 and score_tmp <= 100 and score_tmp % 5 == 0\n",
    "    \n",
    "    if score_tmp < 40:\n",
    "        score_tmp = 40\n",
    "    else:\n",
    "        score_tmp = score_tmp\n",
    "    \n",
    "    score_list.append(score_tmp)\n",
    "\n",
    "print(int(sum(score_list)/students_num))\n",
    "    "
   ]
  },
  {
   "cell_type": "markdown",
   "metadata": {},
   "source": [
    "문제 5543.\n",
    "\n",
    "상근날드에서 가장 잘 팔리는 메뉴는 세트 메뉴이다. 주문할 때, 자신이 원하는 햄버거와 음료를 하나씩 골라, 세트로 구매하면, 가격의 합계에서 50원을 뺀 가격이 세트 메뉴의 가격이 된다.\n",
    "\n",
    "햄버거는 총 3종류 상덕버거, 중덕버거, 하덕버거가 있고, 음료는 콜라와 사이다 두 종류가 있다.\n",
    "\n",
    "햄버거와 음료의 가격이 주어졌을 때, 가장 싼 세트 메뉴의 가격을 출력하는 프로그램을 작성하시오.\n",
    "\n",
    "입력\n",
    "입력은 총 다섯 줄이다. 첫째 줄에는 상덕버거, 둘째 줄에는 중덕버거, 셋째 줄에는 하덕버거의 가격이 주어진다. 넷째 줄에는 콜라의 가격, 다섯째 줄에는 사이다의 가격이 주어진다. 모든 가격은 100원 이상, 2000원 이하이다.\n",
    "\n",
    "출력\n",
    "첫째 줄에 가장 싼 세트 메뉴의 가격을 출력한다."
   ]
  },
  {
   "cell_type": "markdown",
   "metadata": {},
   "source": [
    "풀이\n",
    "\n",
    "입력을 받아 햄버거 리스트(n), 음료수 리스트(m)을 만들고\n",
    "모든 조합의 결과를 (ni, mi, price) 형태로 만든 후 리스트화\n",
    " -> 가장 가격이 낮은 개체 반환"
   ]
  },
  {
   "cell_type": "code",
   "execution_count": 8,
   "metadata": {},
   "outputs": [
    {
     "name": "stdout",
     "output_type": "stream",
     "text": [
      "800\n",
      "700\n",
      "900\n",
      "198\n",
      "330\n",
      "[998, 1130, 898, 1030, 1098, 1230]\n"
     ]
    }
   ],
   "source": [
    "num_burger, num_drink = 3, 2\n",
    "\n",
    "burger_list = []\n",
    "for i in range(num_burger):\n",
    "    burger_tmp = int(input())\n",
    "    assert burger_tmp >= 100 and burger_tmp <= 2000\n",
    "    burger_list.append(burger_tmp)\n",
    "\n",
    "drink_list = []\n",
    "for i in range(num_drink):\n",
    "    drink_tmp = int(input())\n",
    "    assert drink_tmp >= 100 and drink_tmp <= 2000\n",
    "    drink_list.append(drink_tmp)\n",
    "    \n",
    "def comb_all(list1, list2):\n",
    "    \n",
    "    result_list = []\n",
    "    \n",
    "    for a in range(len(list1)):\n",
    "        for b in range(len(list2)):\n",
    "            result_tmp = list1[a] + list2[b] - 50\n",
    "            result_list.append(result_tmp)\n",
    "            \n",
    "    return result_list\n",
    "\n",
    "aa = comb_all(burger_list, drink_list)\n",
    "print(min(aa))"
   ]
  },
  {
   "cell_type": "markdown",
   "metadata": {},
   "source": [
    "문제 10817.\n",
    "\n",
    "세 정수 A, B, C가 주어진다. 이때, 두 번째로 큰 정수를 출력하는 프로그램을 작성하시오. \n",
    "\n",
    "입력\n",
    "첫째 줄에 세 정수 A, B, C가 공백으로 구분되어 주어진다. (1 ≤ A, B, C ≤ 100)\n",
    "\n",
    "출력\n",
    "두 번째로 큰 정수를 출력한다."
   ]
  },
  {
   "cell_type": "code",
   "execution_count": 43,
   "metadata": {},
   "outputs": [
    {
     "name": "stdout",
     "output_type": "stream",
     "text": [
      "40 40 40 \n",
      "40\n"
     ]
    }
   ],
   "source": [
    "num_list = list(map(int, input().split()))\n",
    "#print(num_list)\n",
    "assert not [a for a in num_list if a < 1 or a > 100]\n",
    "\n",
    "def find_sec(input_list):\n",
    "    sec_num, crit_val = -float('inf'), -float('inf')\n",
    "    \n",
    "    for a in input_list:\n",
    "        \n",
    "        if a >= crit_val: # crit_val보다 크면 sec는 crit으로, crit은 a로\n",
    "            sec_num = crit_val\n",
    "            crit_val = a\n",
    "            \n",
    "        elif crit_val >= a and a >= sec_num:\n",
    "            sec_num = a\n",
    "        \n",
    "    return sec_num\n",
    "\n",
    "aa = find_sec(num_list)\n",
    "print(aa)"
   ]
  },
  {
   "cell_type": "markdown",
   "metadata": {},
   "source": [
    "문제 2523.\n",
    "\n",
    "예제를 보고 규칙을 유추한 뒤에 별을 찍어 보세요.\n",
    "\n",
    "입력\n",
    "첫째 줄에 N(1 ≤ N ≤ 100)이 주어진다.\n",
    "\n",
    "출력\n",
    "첫째 줄부터 2×N-1번째 줄까지 차례대로 별을 출력한다."
   ]
  },
  {
   "cell_type": "code",
   "execution_count": 63,
   "metadata": {},
   "outputs": [
    {
     "name": "stdout",
     "output_type": "stream",
     "text": [
      "10\n",
      "*\n",
      "**\n",
      "***\n",
      "****\n",
      "*****\n",
      "******\n",
      "*******\n",
      "********\n",
      "*********\n",
      "**********\n",
      "*********\n",
      "********\n",
      "*******\n",
      "******\n",
      "*****\n",
      "****\n",
      "***\n",
      "**\n",
      "*\n"
     ]
    }
   ],
   "source": [
    "num = int(input())\n",
    "assert num >= 1 and num <= 100\n",
    "\n",
    "mid_crit = num if num % 2 == 1 else num - 1\n",
    "\n",
    "for line_num in range(1, 2*num):\n",
    "    \n",
    "    if line_num <= mid_crit:\n",
    "        star_num = line_num\n",
    "        print(\"*\" * star_num)\n",
    "    else:\n",
    "        star_num = (2 * num) - line_num\n",
    "        print(\"*\" * star_num)"
   ]
  },
  {
   "cell_type": "markdown",
   "metadata": {},
   "source": [
    "문제 2446.\n",
    "\n",
    "예제를 보고 규칙을 유추한 뒤에 별을 찍어 보세요.\n",
    "\n",
    "입력\n",
    "첫째 줄에 N(1 ≤ N ≤ 100)이 주어진다.\n",
    "\n",
    "출력\n",
    "첫째 줄부터 2×N-1번째 줄까지 차례대로 별을 출력한다."
   ]
  },
  {
   "cell_type": "markdown",
   "metadata": {},
   "source": [
    "풀이\n",
    "\n",
    "어떤 숫자가 입력되던지 총 줄의 개수는 홀수,\n",
    "1) 홀수가 입력되었을 때 ex) 5\n",
    "    *0  5*2-1\n",
    "    *1  5*2-3\n",
    "    *2  5*2-5\n",
    "        ...\n",
    "    *4  5*2-9\n",
    "    *3  5*2-11+4\n",
    "        5*2-13+8\n",
    "        5*2-15+12\n",
    "    *0  5*2-17+16 의 형태이므로...\n",
    "    \n",
    "    front_space는 mid(5)보다 작을 때 line_num - 1,\n",
    "                            클 때 (mid * 2 - 1) - line_num이 되며\n",
    "    유사하게\n",
    "    star_num은 mid(5)보다 작을 때 5*2 - (line_num * 2 - 1)이며\n",
    "                         클 때 5*2 - (line_num*2-1) + 4*(line_num-num) 이 됨...\n",
    "   "
   ]
  },
  {
   "cell_type": "code",
   "execution_count": 76,
   "metadata": {},
   "outputs": [
    {
     "name": "stdout",
     "output_type": "stream",
     "text": [
      "10\n",
      "*******************\n",
      " *****************\n",
      "  ***************\n",
      "   *************\n",
      "    ***********\n",
      "     *********\n",
      "      *******\n",
      "       *****\n",
      "        ***\n",
      "         *\n",
      "        ***\n",
      "       *****\n",
      "      *******\n",
      "     *********\n",
      "    ***********\n",
      "   *************\n",
      "  ***************\n",
      " *****************\n",
      "*******************\n"
     ]
    }
   ],
   "source": [
    "num = int(input())\n",
    "assert num >= 1 and num <= 100\n",
    "\n",
    "mid_crit = num if num % 2 == 1 else num - 1\n",
    "\n",
    "for line_num in range(1, 2*num):\n",
    "    \n",
    "    if line_num <= mid_crit:\n",
    "        \n",
    "        front_space = line_num - 1\n",
    "        star_num = num * 2 - (line_num * 2 - 1)\n",
    "        \n",
    "        print(\" \" * front_space, \"*\" * star_num, sep = '')\n",
    "\n",
    "    else:\n",
    "        front_space = (num * 2 - 1) - line_num\n",
    "        star_num = num * 2 - (line_num * 2 - 1) + 4*(line_num - num)\n",
    "        print(\" \" * front_space, \"*\" * star_num, sep = '')\n",
    "        "
   ]
  },
  {
   "cell_type": "markdown",
   "metadata": {},
   "source": [
    "문제 10996.\n",
    "\n",
    "예제를 보고 규칙을 유추한 뒤에 별을 찍어 보세요.\n",
    "\n",
    "입력\n",
    "첫째 줄에 N(1 ≤ N ≤ 100)이 주어진다.\n",
    "\n",
    "출력\n",
    "첫째 줄부터 차례대로 별을 출력한다."
   ]
  },
  {
   "cell_type": "markdown",
   "metadata": {},
   "source": [
    "풀이 생각\n",
    "\n",
    "우선.. 줄의 수는 주어진 수 n * 2이나, 1일 때 한줄인걸로 봐서는 어떤 규칙이 있는데..\n",
    "그리고 두 줄의 별 개수를 합치면 주어진 수가 된다.\n",
    "즉..\n",
    "* *\n",
    " *\n",
    "* *\n",
    " * 에서 두줄로 압축시키면\n",
    "```\n",
    "***\n",
    "***\n",
    "```\n",
    "가 되고, 마찬가지로 어떤 수가 주어지든\n",
    "두줄씩 압축하면 주어진 숫자 n개 만큼이 한 줄에 나타나게 된다. 이때 압축되어 n개만큼 나타나는 줄의 수는 n개이다.\n",
    "\n",
    "즉 첫줄에는 * \" \" * \" \" * 의 규칙으로 --> 리스트로...\n",
    "\n",
    "** 리스트를 뭉개서 한줄로 나타내는 함수는 ''.join()으로 하면 되므로..\n"
   ]
  },
  {
   "cell_type": "code",
   "execution_count": 101,
   "metadata": {},
   "outputs": [
    {
     "name": "stdout",
     "output_type": "stream",
     "text": [
      "5\n",
      "* * *\n",
      " * * \n",
      "* * *\n",
      " * * \n",
      "* * *\n",
      " * * \n",
      "* * *\n",
      " * * \n",
      "* * *\n",
      " * * \n"
     ]
    }
   ],
   "source": [
    "import copy\n",
    "\n",
    "num = int(input())\n",
    "assert num >= 1 and num <= 100\n",
    "\n",
    "alist = []\n",
    "for a in range(num):\n",
    "    \n",
    "    if a % 2 == 0:\n",
    "        alist.append(\"*\")\n",
    "    else:\n",
    "        alist.append(\" \")\n",
    "\n",
    "seclist = copy.deepcopy(alist) # 단순복제를 하면 seclist 변경 시 alist도 변경됨\n",
    "for i, a in enumerate(seclist):\n",
    "    if a == \"*\":\n",
    "        seclist[i] = \" \"\n",
    "    else:\n",
    "        seclist[i] = \"*\"\n",
    "\n",
    "tot_line = num * 2 if num > 1 else num\n",
    "for a in range(tot_line):\n",
    "    if a % 2 == 0:\n",
    "        print(''.join(alist))\n",
    "    else:\n",
    "        print(''.join(seclist))"
   ]
  },
  {
   "cell_type": "code",
   "execution_count": 92,
   "metadata": {},
   "outputs": [
    {
     "data": {
      "text/plain": [
       "' * *'"
      ]
     },
     "execution_count": 92,
     "metadata": {},
     "output_type": "execute_result"
    }
   ],
   "source": [
    "''.join(seclist)"
   ]
  }
 ],
 "metadata": {
  "kernelspec": {
   "display_name": "algorilla",
   "language": "python",
   "name": "algoenv"
  },
  "language_info": {
   "codemirror_mode": {
    "name": "ipython",
    "version": 3
   },
   "file_extension": ".py",
   "mimetype": "text/x-python",
   "name": "python",
   "nbconvert_exporter": "python",
   "pygments_lexer": "ipython3",
   "version": "3.8.3"
  }
 },
 "nbformat": 4,
 "nbformat_minor": 4
}
