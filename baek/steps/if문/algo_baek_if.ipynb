{
 "cells": [
  {
   "cell_type": "markdown",
   "metadata": {},
   "source": [
    "### 문제 2753: 윤년\n",
    "\n",
    "연도가 주어졌을 때, 윤년이면 1, 아니면 0을 출력하는 프로그램을 작성하시오.\n",
    "\n",
    "윤년은 연도가 4의 배수이면서, 100의 배수가 아닐 때 또는 400의 배수일 때이다.\n",
    "\n",
    "예를 들어, 2012년은 4의 배수이면서 100의 배수가 아니라서 윤년이다. 1900년은 100의 배수이고 400의 배수는 아니기 때문에 윤년이 아니다. 하지만, 2000년은 400의 배수이기 때문에 윤년이다."
   ]
  },
  {
   "cell_type": "code",
   "execution_count": 13,
   "metadata": {},
   "outputs": [
    {
     "name": "stdout",
     "output_type": "stream",
     "text": [
      "1999\n",
      "0\n"
     ]
    }
   ],
   "source": [
    "# 입력\n",
    "input_year = int(input())\n",
    "\n",
    "# 함수\n",
    "def judge_yoon(input_year):\n",
    "    \n",
    "    assert input_year >= 1 and input_year <= 4000\n",
    "    \n",
    "    if (input_year % 4 == 0 and input_year % 100 != 0) or (input_year % 400 == 0):\n",
    "        judge_result = 1\n",
    "    else:\n",
    "        judge_result = 0\n",
    "    \n",
    "    return judge_result\n",
    "\n",
    "# 출력\n",
    "result = judge_yoon(input_year)\n",
    "print(result)"
   ]
  },
  {
   "cell_type": "markdown",
   "metadata": {},
   "source": [
    "### 문제 14681: 사분면 고르기\n",
    "\n",
    "흔한 수학 문제 중 하나는 주어진 점이 어느 사분면에 속하는지 알아내는 것이다. 사분면은 아래 그림처럼 1부터 4까지 번호를 갖는다. \"Quadrant n\"은 \"제n사분면\"이라는 뜻이다.\n",
    "\n",
    "예를 들어, 좌표가 (12, 5)인 점 A는 x좌표와 y좌표가 모두 양수이므로 제1사분면에 속한다. 점 B는 x좌표가 음수이고 y좌표가 양수이므로 제2사분면에 속한다.\n",
    "\n",
    "점의 좌표를 입력받아 그 점이 어느 사분면에 속하는지 알아내는 프로그램을 작성하시오. 단, x좌표와 y좌표는 모두 양수나 음수라고 가정한다.\n"
   ]
  },
  {
   "cell_type": "code",
   "execution_count": 20,
   "metadata": {},
   "outputs": [
    {
     "name": "stdout",
     "output_type": "stream",
     "text": [
      "9\n",
      "-13\n",
      "4\n"
     ]
    }
   ],
   "source": [
    "# 입력\n",
    "input_coord = []\n",
    "for i in range(2):\n",
    "    tmp_coord = int(input())\n",
    "    assert tmp_coord >= -1000 and tmp_coord <= 1000 and tmp_coord != 0\n",
    "    input_coord.append(tmp_coord)\n",
    "\n",
    "# 출력\n",
    "if input_coord[0] * input_coord[1] > 0:\n",
    "    if input_coord[0] > 0:\n",
    "        result = 1\n",
    "    else:\n",
    "        result = 3\n",
    "else:\n",
    "    if input_coord[0] < 0:\n",
    "        result = 2\n",
    "    else:\n",
    "        result = 4\n",
    "\n",
    "print(result)"
   ]
  },
  {
   "cell_type": "markdown",
   "metadata": {},
   "source": [
    "### 문제 2884: 알람시계\n",
    "\n",
    "상근이는 매일 아침 알람을 듣고 일어난다. 알람을 듣고 바로 일어나면 다행이겠지만, 항상 조금만 더 자려는 마음 때문에 매일 학교를 지각하고 있다.\n",
    "\n",
    "상근이는 모든 방법을 동원해보았지만, 조금만 더 자려는 마음은 그 어떤 것도 없앨 수가 없었다.\n",
    "\n",
    "이런 상근이를 불쌍하게 보던, 창영이는 자신이 사용하는 방법을 추천해 주었다.\n",
    "\n",
    "바로 \"45분 일찍 알람 설정하기\"이다.\n",
    "\n",
    "이 방법은 단순하다. 원래 설정되어 있는 알람을 45분 앞서는 시간으로 바꾸는 것이다. 어차피 알람 소리를 들으면, 알람을 끄고 조금 더 잘 것이기 때문이다. 이 방법을 사용하면, 매일 아침 더 잤다는 기분을 느낄 수 있고, 학교도 지각하지 않게 된다.\n",
    "\n",
    "현재 상근이가 설정한 알람 시각이 주어졌을 때, 창영이의 방법을 사용한다면, 이를 언제로 고쳐야 하는지 구하는 프로그램을 작성하시오."
   ]
  },
  {
   "cell_type": "markdown",
   "metadata": {},
   "source": [
    "* 풀이 방법\n",
    " - 주어진 시간을 분단위로 변환한 뒤, 45분을 빼서 다시 원래 시간 단위로 변경\n",
    " - 이 때, 0시 10분 등 전날로 변환되는 경우 (음수) 고려해야 함"
   ]
  },
  {
   "cell_type": "code",
   "execution_count": 28,
   "metadata": {},
   "outputs": [
    {
     "name": "stdout",
     "output_type": "stream",
     "text": [
      "23 40\n",
      "22 55\n"
     ]
    }
   ],
   "source": [
    "# 입력\n",
    "a = input()\n",
    "input_time = list(map(int, a.split()))\n",
    "assert len(input_time) == 2 # 시간/분 입력 accept\n",
    "\n",
    "H = input_time[0]\n",
    "M = input_time[1]\n",
    "assert (H >= 0 and H <= 23) and (M >= 0 and M <= 59)\n",
    "\n",
    "# 함수\n",
    "def time_change(input_H, input_M): # input: 원 시간 단위의 리스트 [10, 15] 등\n",
    "    m_scale = input_H * 60 + input_M\n",
    "    \n",
    "    if m_scale >= 45:\n",
    "        changed_time = m_scale - 45\n",
    "    else:\n",
    "        changed_time = m_scale - 45 + (24 * 60)\n",
    "    \n",
    "    return divmod(changed_time, 60)\n",
    "\n",
    "# 출력\n",
    "result = time_change(H, M)\n",
    "print(result[0], result[1])"
   ]
  },
  {
   "cell_type": "code",
   "execution_count": 25,
   "metadata": {},
   "outputs": [
    {
     "data": {
      "text/plain": [
       "1"
      ]
     },
     "execution_count": 25,
     "metadata": {},
     "output_type": "execute_result"
    }
   ],
   "source": []
  }
 ],
 "metadata": {
  "kernelspec": {
   "display_name": "algorithms",
   "language": "python",
   "name": "algoenv"
  },
  "language_info": {
   "codemirror_mode": {
    "name": "ipython",
    "version": 3
   },
   "file_extension": ".py",
   "mimetype": "text/x-python",
   "name": "python",
   "nbconvert_exporter": "python",
   "pygments_lexer": "ipython3",
   "version": "3.8.3"
  }
 },
 "nbformat": 4,
 "nbformat_minor": 4
}
