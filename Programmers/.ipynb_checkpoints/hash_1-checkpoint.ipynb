{
 "cells": [
  {
   "cell_type": "code",
   "execution_count": 34,
   "metadata": {},
   "outputs": [],
   "source": [
    "import random\n",
    "from time import time"
   ]
  },
  {
   "cell_type": "code",
   "execution_count": 199,
   "metadata": {},
   "outputs": [
    {
     "name": "stdout",
     "output_type": "stream",
     "text": [
      "0.015565156936645508\n"
     ]
    }
   ],
   "source": [
    "start = time()\n",
    "\n",
    "gg = []\n",
    "for i in range(10000):\n",
    "    gg.append(random.randint(1, 5000000))\n",
    "\n",
    "print(time() - start)"
   ]
  },
  {
   "cell_type": "code",
   "execution_count": 200,
   "metadata": {},
   "outputs": [],
   "source": [
    "ggg = list(map(str, gg))"
   ]
  },
  {
   "cell_type": "code",
   "execution_count": 201,
   "metadata": {},
   "outputs": [],
   "source": [
    "participant = ggg.copy()\n",
    "completion = ggg.copy()\n",
    "completion = completion[1:]"
   ]
  },
  {
   "cell_type": "code",
   "execution_count": 175,
   "metadata": {},
   "outputs": [
    {
     "name": "stdout",
     "output_type": "stream",
     "text": [
      "2835249\n",
      "2.8286468982696533\n"
     ]
    }
   ],
   "source": [
    "# algo 1\n",
    "start = time()\n",
    "\n",
    "participant.extend(completion)\n",
    "participant.sort()\n",
    "\n",
    "for part in list(set(participant)):\n",
    "    if participant.count(part) % 2 != 0:\n",
    "        answer = part\n",
    "        \n",
    "print(answer)\n",
    "print(time() - start)"
   ]
  },
  {
   "cell_type": "code",
   "execution_count": 177,
   "metadata": {},
   "outputs": [
    {
     "name": "stdout",
     "output_type": "stream",
     "text": [
      "2835249\n",
      "3.045319080352783\n"
     ]
    }
   ],
   "source": [
    "# algo 2\n",
    "start = time()\n",
    "\n",
    "participant.sort()\n",
    "completion.sort()\n",
    "for part in participant:\n",
    "    if participant.count(part) != completion.count(part):\n",
    "        answer = part\n",
    "        \n",
    "print(answer)\n",
    "print(time() - start)"
   ]
  },
  {
   "cell_type": "code",
   "execution_count": 188,
   "metadata": {},
   "outputs": [
    {
     "name": "stdout",
     "output_type": "stream",
     "text": [
      "999874\n",
      "0.016007184982299805\n"
     ]
    }
   ],
   "source": [
    "# algo 3\n",
    "# 개빠르네...\n",
    "start = time()\n",
    "\n",
    "participant.sort()\n",
    "completion.sort()\n",
    "\n",
    "for i, part in enumerate(participant):\n",
    "    if i == len(participant) - 1:\n",
    "        answer = part\n",
    "    else:\n",
    "        if participant[i] == participant[i-1] and participant[i] != completion[i]:\n",
    "            answer = participant[i]\n",
    "        elif participant[i] != completion[i]:\n",
    "            answer = completion[i]\n",
    "            break\n",
    "        \n",
    "print(answer)\n",
    "print(time() - start)"
   ]
  },
  {
   "cell_type": "code",
   "execution_count": 209,
   "metadata": {},
   "outputs": [
    {
     "data": {
      "text/plain": [
       "Counter({'a': 1})"
      ]
     },
     "execution_count": 209,
     "metadata": {},
     "output_type": "execute_result"
    }
   ],
   "source": [
    "# Counter는 빼기가 가능하다..\n",
    "import collections\n",
    "\n",
    "a = ['a', 'b', 'c', 'd', 'd', 'e']\n",
    "b = ['b', 'c', 'd', 'd', 'e']\n",
    "\n",
    "collections.Counter(a) - collections.Counter(b)"
   ]
  },
  {
   "cell_type": "code",
   "execution_count": 210,
   "metadata": {},
   "outputs": [
    {
     "name": "stdout",
     "output_type": "stream",
     "text": [
      "a b\n",
      "b c\n",
      "c d\n",
      "d d\n",
      "d e\n"
     ]
    }
   ],
   "source": [
    "for aa, bb in zip(a, b):\n",
    "    print(aa, bb)"
   ]
  },
  {
   "cell_type": "code",
   "execution_count": 214,
   "metadata": {},
   "outputs": [
    {
     "name": "stdout",
     "output_type": "stream",
     "text": [
      "999582\n"
     ]
    }
   ],
   "source": [
    "# hash를 이용한 풀이\n",
    "participant.sort()\n",
    "completion.sort()\n",
    "\n",
    "answer = None\n",
    "for part, comp in zip(participant, completion):\n",
    "    flag = int(hash(part)) - int(hash(comp))\n",
    "    if flag != 0:\n",
    "        answer = part\n",
    "if answer is None:\n",
    "    answer = part[-1]\n",
    "    \n",
    "print(answer)"
   ]
  },
  {
   "cell_type": "code",
   "execution_count": 208,
   "metadata": {},
   "outputs": [
    {
     "data": {
      "text/plain": [
       "-5827723861205086479"
      ]
     },
     "execution_count": 208,
     "metadata": {},
     "output_type": "execute_result"
    }
   ],
   "source": [
    "hash('aaaaab')"
   ]
  }
 ],
 "metadata": {
  "kernelspec": {
   "display_name": "Python 3",
   "language": "python",
   "name": "python3"
  },
  "language_info": {
   "codemirror_mode": {
    "name": "ipython",
    "version": 3
   },
   "file_extension": ".py",
   "mimetype": "text/x-python",
   "name": "python",
   "nbconvert_exporter": "python",
   "pygments_lexer": "ipython3",
   "version": "3.8.5"
  }
 },
 "nbformat": 4,
 "nbformat_minor": 4
}
