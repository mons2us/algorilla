{
 "cells": [
  {
   "cell_type": "code",
   "execution_count": 16,
   "metadata": {},
   "outputs": [],
   "source": [
    "pb = [\"1188123\", \"119\", \"97674223\", \"1195524421\"]"
   ]
  },
  {
   "cell_type": "code",
   "execution_count": 14,
   "metadata": {},
   "outputs": [
    {
     "data": {
      "text/plain": [
       "False"
      ]
     },
     "execution_count": 14,
     "metadata": {},
     "output_type": "execute_result"
    }
   ],
   "source": [
    "# 무난한 풀이\n",
    "def solution(pb):\n",
    "    pb.sort(key = lambda x: len(x))\n",
    "\n",
    "    for i, query in enumerate(pb):\n",
    "        for db_item in pb[i+1:]:\n",
    "            if db_item.find(query) == 0:\n",
    "                return False\n",
    "    return True\n",
    "\n",
    "solution(pb)"
   ]
  },
  {
   "cell_type": "code",
   "execution_count": 17,
   "metadata": {},
   "outputs": [
    {
     "data": {
      "text/plain": [
       "False"
      ]
     },
     "execution_count": 17,
     "metadata": {},
     "output_type": "execute_result"
    }
   ],
   "source": [
    "# 좋은 풀이\n",
    "def solution(pb):\n",
    "    pb.sort() # 앞에서부터 글자로 정렬... 즉 비슷한 것 끼리 옆으로 놓임\n",
    "    for a, b in zip(pb, pb[1:]):\n",
    "        if b.startswith(a):\n",
    "            return False\n",
    "    return True\n",
    "\n",
    "solution(pb)"
   ]
  }
 ],
 "metadata": {
  "kernelspec": {
   "display_name": "Python 3",
   "language": "python",
   "name": "python3"
  },
  "language_info": {
   "codemirror_mode": {
    "name": "ipython",
    "version": 3
   },
   "file_extension": ".py",
   "mimetype": "text/x-python",
   "name": "python",
   "nbconvert_exporter": "python",
   "pygments_lexer": "ipython3",
   "version": "3.8.5"
  }
 },
 "nbformat": 4,
 "nbformat_minor": 4
}
