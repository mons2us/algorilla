{
 "cells": [
  {
   "cell_type": "code",
   "execution_count": 1,
   "metadata": {},
   "outputs": [],
   "source": [
    "import itertools"
   ]
  },
  {
   "cell_type": "code",
   "execution_count": 11,
   "metadata": {},
   "outputs": [
    {
     "data": {
      "text/plain": [
       "[(1, 2), (1, 3), (2, 3)]"
      ]
     },
     "execution_count": 11,
     "metadata": {},
     "output_type": "execute_result"
    }
   ],
   "source": [
    "list(itertools.combinations([1, 2, 3], 2))"
   ]
  },
  {
   "cell_type": "code",
   "execution_count": 15,
   "metadata": {},
   "outputs": [
    {
     "data": {
      "text/plain": [
       "[(1, 2, 3, 4),\n",
       " (1, 2, 4, 3),\n",
       " (1, 3, 2, 4),\n",
       " (1, 3, 4, 2),\n",
       " (1, 4, 2, 3),\n",
       " (1, 4, 3, 2),\n",
       " (2, 1, 3, 4),\n",
       " (2, 1, 4, 3),\n",
       " (2, 3, 1, 4),\n",
       " (2, 3, 4, 1),\n",
       " (2, 4, 1, 3),\n",
       " (2, 4, 3, 1),\n",
       " (3, 1, 2, 4),\n",
       " (3, 1, 4, 2),\n",
       " (3, 2, 1, 4),\n",
       " (3, 2, 4, 1),\n",
       " (3, 4, 1, 2),\n",
       " (3, 4, 2, 1),\n",
       " (4, 1, 2, 3),\n",
       " (4, 1, 3, 2),\n",
       " (4, 2, 1, 3),\n",
       " (4, 2, 3, 1),\n",
       " (4, 3, 1, 2),\n",
       " (4, 3, 2, 1)]"
      ]
     },
     "execution_count": 15,
     "metadata": {},
     "output_type": "execute_result"
    }
   ],
   "source": [
    "list(itertools.permutations([1, 2, 3, 4]))"
   ]
  }
 ],
 "metadata": {
  "kernelspec": {
   "display_name": "Python 3",
   "language": "python",
   "name": "python3"
  },
  "language_info": {
   "codemirror_mode": {
    "name": "ipython",
    "version": 3
   },
   "file_extension": ".py",
   "mimetype": "text/x-python",
   "name": "python",
   "nbconvert_exporter": "python",
   "pygments_lexer": "ipython3",
   "version": "3.8.5"
  }
 },
 "nbformat": 4,
 "nbformat_minor": 4
}
